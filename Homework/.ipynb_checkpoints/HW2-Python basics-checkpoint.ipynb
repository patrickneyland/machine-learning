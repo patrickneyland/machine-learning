{
 "cells": [
  {
   "cell_type": "markdown",
   "metadata": {},
   "source": [
    "\n",
    "![logo](https://upload.wikimedia.org/wikipedia/commons/4/44/Huntsman-Wordmark-with-USU-Blue.gif#center) \n",
    "\n",
    "\n",
    "---"
   ]
  },
  {
   "cell_type": "markdown",
   "metadata": {},
   "source": [
    "# HW2- Python basics (20 pionts)\n",
    "\n",
    "### Instructor: Pedram Jahangiry \n",
    "\n",
    "Let's take a look at NumPy and Pandas now. We'll start with a few simple tasks, then we'll move on to more complicated questions.\n",
    "\n",
    "**Important** Avoid running the cells directly above the example output shown, otherwise you will end up overwriting it\n",
    "\n",
    "---"
   ]
  },
  {
   "cell_type": "markdown",
   "metadata": {},
   "source": [
    "##### 1. Import Numpy package as np (0.5 point)"
   ]
  },
  {
   "cell_type": "code",
   "execution_count": 1,
   "metadata": {},
   "outputs": [],
   "source": [
    "# CODE HERE\n",
    "import numpy as np"
   ]
  },
  {
   "cell_type": "markdown",
   "metadata": {},
   "source": [
    "#####  2. Create the following numpy array using two functions:  arange() and linspace(). You must generate the same answers. (2 points)"
   ]
  },
  {
   "cell_type": "code",
   "execution_count": 2,
   "metadata": {},
   "outputs": [
    {
     "data": {
      "text/plain": [
       "array([ 2,  6, 10, 14])"
      ]
     },
     "execution_count": 2,
     "metadata": {},
     "output_type": "execute_result"
    }
   ],
   "source": [
    "# Code here (using arange function)\n",
    "np.arange(2, 18, 4)"
   ]
  },
  {
   "cell_type": "code",
   "execution_count": 17,
   "metadata": {},
   "outputs": [],
   "source": [
    "# Do NOT write here! \n"
   ]
  },
  {
   "cell_type": "code",
   "execution_count": 3,
   "metadata": {},
   "outputs": [
    {
     "data": {
      "text/plain": [
       "array([ 2.,  6., 10., 14., 18.])"
      ]
     },
     "execution_count": 3,
     "metadata": {},
     "output_type": "execute_result"
    }
   ],
   "source": [
    "# Code here (using linspace function)\n",
    "np.linspace(2, 18, 5)"
   ]
  },
  {
   "cell_type": "code",
   "execution_count": 19,
   "metadata": {},
   "outputs": [],
   "source": [
    "# Do NOT write here! \n"
   ]
  },
  {
   "cell_type": "markdown",
   "metadata": {},
   "source": [
    "##### 3. Create the following matrix of ones and save it as my_matrix. (1 point)"
   ]
  },
  {
   "cell_type": "code",
   "execution_count": 34,
   "metadata": {},
   "outputs": [
    {
     "data": {
      "text/plain": [
       "array([[1., 1., 1., 1.],\n",
       "       [1., 1., 1., 1.],\n",
       "       [1., 1., 1., 1.],\n",
       "       [1., 1., 1., 1.]])"
      ]
     },
     "execution_count": 34,
     "metadata": {},
     "output_type": "execute_result"
    }
   ],
   "source": [
    "# Code here\n",
    "my_matrix = np.ones((4, 4))\n",
    "my_matrix"
   ]
  },
  {
   "cell_type": "code",
   "execution_count": 21,
   "metadata": {},
   "outputs": [],
   "source": [
    "# Do NOT write here\n"
   ]
  },
  {
   "cell_type": "markdown",
   "metadata": {},
   "source": [
    "#### 4. Reshape \"my_matrix\" into a new matrix as shown below. (1 point)"
   ]
  },
  {
   "cell_type": "code",
   "execution_count": 35,
   "metadata": {},
   "outputs": [],
   "source": [
    "# Code here\n",
    "my_matrix = my_matrix.reshape(2,8)"
   ]
  },
  {
   "cell_type": "code",
   "execution_count": 36,
   "metadata": {},
   "outputs": [
    {
     "data": {
      "text/plain": [
       "array([[1., 1., 1., 1., 1., 1., 1., 1.],\n",
       "       [1., 1., 1., 1., 1., 1., 1., 1.]])"
      ]
     },
     "execution_count": 36,
     "metadata": {},
     "output_type": "execute_result"
    }
   ],
   "source": [
    "# Do NOT write here \n",
    "my_matrix"
   ]
  },
  {
   "cell_type": "markdown",
   "metadata": {},
   "source": [
    "#### 5. First, replace the first row of \"my_matrix\" with zeros. then replace the last column with 2s. Save the new matrix as \"my_matrix2\". (2 points)"
   ]
  },
  {
   "cell_type": "code",
   "execution_count": 37,
   "metadata": {},
   "outputs": [],
   "source": [
    "# Code here\n",
    "first_row = np.zeros((1, my_matrix.shape[1]))\n",
    "second_row = 2 * np.ones((1, my_matrix.shape[1]))\n",
    "\n",
    "my_matrix2 = np.concatenate((first_row, second_row), axis=0)"
   ]
  },
  {
   "cell_type": "code",
   "execution_count": 38,
   "metadata": {},
   "outputs": [
    {
     "data": {
      "text/plain": [
       "array([[0., 0., 0., 0., 0., 0., 0., 0.],\n",
       "       [2., 2., 2., 2., 2., 2., 2., 2.]])"
      ]
     },
     "execution_count": 38,
     "metadata": {},
     "output_type": "execute_result"
    }
   ],
   "source": [
    "# Do not write here\n",
    "my_matrix2"
   ]
  },
  {
   "cell_type": "markdown",
   "metadata": {},
   "source": [
    "#### 6. Create the following matrix and save it as \"A\". (2 points)"
   ]
  },
  {
   "cell_type": "code",
   "execution_count": 28,
   "metadata": {},
   "outputs": [],
   "source": [
    "# Code here\n",
    "A = np.linspace(0.01, 1, 100).reshape(10, 10)"
   ]
  },
  {
   "cell_type": "code",
   "execution_count": 29,
   "metadata": {},
   "outputs": [
    {
     "data": {
      "text/plain": [
       "array([[0.01, 0.02, 0.03, 0.04, 0.05, 0.06, 0.07, 0.08, 0.09, 0.1 ],\n",
       "       [0.11, 0.12, 0.13, 0.14, 0.15, 0.16, 0.17, 0.18, 0.19, 0.2 ],\n",
       "       [0.21, 0.22, 0.23, 0.24, 0.25, 0.26, 0.27, 0.28, 0.29, 0.3 ],\n",
       "       [0.31, 0.32, 0.33, 0.34, 0.35, 0.36, 0.37, 0.38, 0.39, 0.4 ],\n",
       "       [0.41, 0.42, 0.43, 0.44, 0.45, 0.46, 0.47, 0.48, 0.49, 0.5 ],\n",
       "       [0.51, 0.52, 0.53, 0.54, 0.55, 0.56, 0.57, 0.58, 0.59, 0.6 ],\n",
       "       [0.61, 0.62, 0.63, 0.64, 0.65, 0.66, 0.67, 0.68, 0.69, 0.7 ],\n",
       "       [0.71, 0.72, 0.73, 0.74, 0.75, 0.76, 0.77, 0.78, 0.79, 0.8 ],\n",
       "       [0.81, 0.82, 0.83, 0.84, 0.85, 0.86, 0.87, 0.88, 0.89, 0.9 ],\n",
       "       [0.91, 0.92, 0.93, 0.94, 0.95, 0.96, 0.97, 0.98, 0.99, 1.  ]])"
      ]
     },
     "execution_count": 29,
     "metadata": {},
     "output_type": "execute_result"
    }
   ],
   "source": [
    "# Do NOT write here.\n",
    "A"
   ]
  },
  {
   "cell_type": "markdown",
   "metadata": {},
   "source": [
    "##### 7. Create a 10 * 10 matrix using random values drawn from a standard normal distribution. Call this matrix \"B\". Set seed number = 100 (2 points)"
   ]
  },
  {
   "cell_type": "code",
   "execution_count": 33,
   "metadata": {},
   "outputs": [],
   "source": [
    "# Code here\n",
    "np.random.seed(100)\n",
    "B = np.random.normal(0,1,size=(10,10))\n"
   ]
  },
  {
   "cell_type": "code",
   "execution_count": 34,
   "metadata": {},
   "outputs": [
    {
     "data": {
      "text/plain": [
       "array([[-1.74976547,  0.3426804 ,  1.1530358 , -0.25243604,  0.98132079,\n",
       "         0.51421884,  0.22117967, -1.07004333, -0.18949583,  0.25500144],\n",
       "       [-0.45802699,  0.43516349, -0.58359505,  0.81684707,  0.67272081,\n",
       "        -0.10441114, -0.53128038,  1.02973269, -0.43813562, -1.11831825],\n",
       "       [ 1.61898166,  1.54160517, -0.25187914, -0.84243574,  0.18451869,\n",
       "         0.9370822 ,  0.73100034,  1.36155613, -0.32623806,  0.05567601],\n",
       "       [ 0.22239961, -1.443217  , -0.75635231,  0.81645401,  0.75044476,\n",
       "        -0.45594693,  1.18962227, -1.69061683, -1.35639905, -1.23243451],\n",
       "       [-0.54443916, -0.66817174,  0.00731456, -0.61293874,  1.29974807,\n",
       "        -1.73309562, -0.9833101 ,  0.35750775, -1.6135785 ,  1.47071387],\n",
       "       [-1.1880176 , -0.54974619, -0.94004616, -0.82793236,  0.10886347,\n",
       "         0.50780959, -0.86222735,  1.24946974, -0.07961125, -0.88973148],\n",
       "       [-0.88179839,  0.01863895,  0.23784462,  0.01354855, -1.6355294 ,\n",
       "        -1.04420988,  0.61303888,  0.73620521,  1.02692144, -1.43219061],\n",
       "       [-1.8411883 ,  0.36609323, -0.33177714, -0.68921798,  2.03460756,\n",
       "        -0.55071441,  0.75045333, -1.30699234,  0.58057334, -1.10452309],\n",
       "       [ 0.69012147,  0.68689007, -1.56668753,  0.90497412,  0.7788224 ,\n",
       "         0.42823287,  0.10887199,  0.02828363, -0.57882582, -1.1994512 ],\n",
       "       [-1.70595201,  0.36916396,  1.87657343, -0.37690335,  1.83193608,\n",
       "         0.00301743, -0.07602347,  0.00395759, -0.18501411, -2.48715154]])"
      ]
     },
     "execution_count": 34,
     "metadata": {},
     "output_type": "execute_result"
    }
   ],
   "source": [
    "# Do NOT write here\n",
    "B"
   ]
  },
  {
   "cell_type": "markdown",
   "metadata": {},
   "source": [
    "##### 8. Multiply matrix A and B. (use the Matrix multiplication, NOT the element-wised multiplication) (1 point)"
   ]
  },
  {
   "cell_type": "code",
   "execution_count": 39,
   "metadata": {},
   "outputs": [],
   "source": [
    "# Code here\n",
    "# Here are two difference options. I list the second one because it uses np and is more intuitive to me\n",
    "C = A @ B\n",
    "D = np.matmul(A, B)"
   ]
  },
  {
   "cell_type": "code",
   "execution_count": null,
   "metadata": {},
   "outputs": [
    {
     "data": {
      "text/plain": [
       "array([[-0.38520099,  0.06358488, -0.05722663, -0.06955691,  0.43190936,\n",
       "        -0.12156679,  0.06534707,  0.02587607, -0.11242174, -0.5925726 ],\n",
       "       [-0.96896951,  0.17349491, -0.17278352, -0.17456096,  1.13265468,\n",
       "        -0.2713685 ,  0.18147958,  0.09578209, -0.42840209, -1.36081353],\n",
       "       [-1.55273803,  0.28340494, -0.28834041, -0.279565  ,  1.8334    ,\n",
       "        -0.4211702 ,  0.2976121 ,  0.16568812, -0.74438244, -2.12905447],\n",
       "       [-2.13650655,  0.39331498, -0.40389731, -0.38456905,  2.53414533,\n",
       "        -0.57097191,  0.41374462,  0.23559414, -1.06036278, -2.8972954 ],\n",
       "       [-2.72027506,  0.50322501, -0.5194542 , -0.48957309,  3.23489065,\n",
       "        -0.72077361,  0.52987714,  0.30550017, -1.37634313, -3.66553634],\n",
       "       [-3.30404358,  0.61313505, -0.63501109, -0.59457714,  3.93563597,\n",
       "        -0.87057532,  0.64600966,  0.37540619, -1.69232348, -4.43377727],\n",
       "       [-3.8878121 ,  0.72304508, -0.75056798, -0.69958118,  4.6363813 ,\n",
       "        -1.02037702,  0.76214218,  0.44531222, -2.00830382, -5.20201821],\n",
       "       [-4.47158062,  0.83295511, -0.86612487, -0.80458523,  5.33712662,\n",
       "        -1.17017873,  0.8782747 ,  0.51521824, -2.32428417, -5.97025915],\n",
       "       [-5.05534913,  0.94286515, -0.98168176, -0.90958927,  6.03787194,\n",
       "        -1.31998043,  0.99440722,  0.58512427, -2.64026452, -6.73850008],\n",
       "       [-5.63911765,  1.05277518, -1.09723865, -1.01459332,  6.73861727,\n",
       "        -1.46978214,  1.11053974,  0.65503029, -2.95624487, -7.50674102]])"
      ]
     },
     "execution_count": 36,
     "metadata": {},
     "output_type": "execute_result"
    }
   ],
   "source": [
    "# Do NOT write here\n"
   ]
  },
  {
   "cell_type": "markdown",
   "metadata": {},
   "source": [
    "##### 9. Import Pandas package as pd (0.5 point)"
   ]
  },
  {
   "cell_type": "code",
   "execution_count": 40,
   "metadata": {},
   "outputs": [],
   "source": [
    "# Code here \n",
    "import pandas as pd"
   ]
  },
  {
   "cell_type": "code",
   "execution_count": null,
   "metadata": {},
   "outputs": [],
   "source": [
    "# Do Not write here\n"
   ]
  },
  {
   "cell_type": "markdown",
   "metadata": {},
   "source": [
    "##### 10. Create a data frame with three columns A, B, C. Name your data frame as df. Again use the seed number = 100 \n",
    "* Column A: 20 random numbers from the uniform distribution (2 point)\n",
    "* Column B: the first 20 Capitals of english letters (3 points)\n",
    "* Column C: range of numbers between 20 and 39 (1 point)\n"
   ]
  },
  {
   "cell_type": "code",
   "execution_count": 43,
   "metadata": {},
   "outputs": [
    {
     "data": {
      "text/html": [
       "<div>\n",
       "<style scoped>\n",
       "    .dataframe tbody tr th:only-of-type {\n",
       "        vertical-align: middle;\n",
       "    }\n",
       "\n",
       "    .dataframe tbody tr th {\n",
       "        vertical-align: top;\n",
       "    }\n",
       "\n",
       "    .dataframe thead th {\n",
       "        text-align: right;\n",
       "    }\n",
       "</style>\n",
       "<table border=\"1\" class=\"dataframe\">\n",
       "  <thead>\n",
       "    <tr style=\"text-align: right;\">\n",
       "      <th></th>\n",
       "      <th>A</th>\n",
       "      <th>B</th>\n",
       "      <th>C</th>\n",
       "    </tr>\n",
       "  </thead>\n",
       "  <tbody>\n",
       "    <tr>\n",
       "      <th>0</th>\n",
       "      <td>0.543405</td>\n",
       "      <td>A</td>\n",
       "      <td>20</td>\n",
       "    </tr>\n",
       "    <tr>\n",
       "      <th>1</th>\n",
       "      <td>0.278369</td>\n",
       "      <td>B</td>\n",
       "      <td>21</td>\n",
       "    </tr>\n",
       "    <tr>\n",
       "      <th>2</th>\n",
       "      <td>0.424518</td>\n",
       "      <td>C</td>\n",
       "      <td>22</td>\n",
       "    </tr>\n",
       "    <tr>\n",
       "      <th>3</th>\n",
       "      <td>0.844776</td>\n",
       "      <td>D</td>\n",
       "      <td>23</td>\n",
       "    </tr>\n",
       "    <tr>\n",
       "      <th>4</th>\n",
       "      <td>0.004719</td>\n",
       "      <td>E</td>\n",
       "      <td>24</td>\n",
       "    </tr>\n",
       "    <tr>\n",
       "      <th>5</th>\n",
       "      <td>0.121569</td>\n",
       "      <td>F</td>\n",
       "      <td>25</td>\n",
       "    </tr>\n",
       "    <tr>\n",
       "      <th>6</th>\n",
       "      <td>0.670749</td>\n",
       "      <td>G</td>\n",
       "      <td>26</td>\n",
       "    </tr>\n",
       "    <tr>\n",
       "      <th>7</th>\n",
       "      <td>0.825853</td>\n",
       "      <td>H</td>\n",
       "      <td>27</td>\n",
       "    </tr>\n",
       "    <tr>\n",
       "      <th>8</th>\n",
       "      <td>0.136707</td>\n",
       "      <td>I</td>\n",
       "      <td>28</td>\n",
       "    </tr>\n",
       "    <tr>\n",
       "      <th>9</th>\n",
       "      <td>0.575093</td>\n",
       "      <td>J</td>\n",
       "      <td>29</td>\n",
       "    </tr>\n",
       "    <tr>\n",
       "      <th>10</th>\n",
       "      <td>0.891322</td>\n",
       "      <td>K</td>\n",
       "      <td>30</td>\n",
       "    </tr>\n",
       "    <tr>\n",
       "      <th>11</th>\n",
       "      <td>0.209202</td>\n",
       "      <td>L</td>\n",
       "      <td>31</td>\n",
       "    </tr>\n",
       "    <tr>\n",
       "      <th>12</th>\n",
       "      <td>0.185328</td>\n",
       "      <td>M</td>\n",
       "      <td>32</td>\n",
       "    </tr>\n",
       "    <tr>\n",
       "      <th>13</th>\n",
       "      <td>0.108377</td>\n",
       "      <td>N</td>\n",
       "      <td>33</td>\n",
       "    </tr>\n",
       "    <tr>\n",
       "      <th>14</th>\n",
       "      <td>0.219697</td>\n",
       "      <td>O</td>\n",
       "      <td>34</td>\n",
       "    </tr>\n",
       "    <tr>\n",
       "      <th>15</th>\n",
       "      <td>0.978624</td>\n",
       "      <td>P</td>\n",
       "      <td>35</td>\n",
       "    </tr>\n",
       "    <tr>\n",
       "      <th>16</th>\n",
       "      <td>0.811683</td>\n",
       "      <td>Q</td>\n",
       "      <td>36</td>\n",
       "    </tr>\n",
       "    <tr>\n",
       "      <th>17</th>\n",
       "      <td>0.171941</td>\n",
       "      <td>R</td>\n",
       "      <td>37</td>\n",
       "    </tr>\n",
       "    <tr>\n",
       "      <th>18</th>\n",
       "      <td>0.816225</td>\n",
       "      <td>S</td>\n",
       "      <td>38</td>\n",
       "    </tr>\n",
       "    <tr>\n",
       "      <th>19</th>\n",
       "      <td>0.274074</td>\n",
       "      <td>T</td>\n",
       "      <td>39</td>\n",
       "    </tr>\n",
       "  </tbody>\n",
       "</table>\n",
       "</div>"
      ],
      "text/plain": [
       "           A  B   C\n",
       "0   0.543405  A  20\n",
       "1   0.278369  B  21\n",
       "2   0.424518  C  22\n",
       "3   0.844776  D  23\n",
       "4   0.004719  E  24\n",
       "5   0.121569  F  25\n",
       "6   0.670749  G  26\n",
       "7   0.825853  H  27\n",
       "8   0.136707  I  28\n",
       "9   0.575093  J  29\n",
       "10  0.891322  K  30\n",
       "11  0.209202  L  31\n",
       "12  0.185328  M  32\n",
       "13  0.108377  N  33\n",
       "14  0.219697  O  34\n",
       "15  0.978624  P  35\n",
       "16  0.811683  Q  36\n",
       "17  0.171941  R  37\n",
       "18  0.816225  S  38\n",
       "19  0.274074  T  39"
      ]
     },
     "execution_count": 43,
     "metadata": {},
     "output_type": "execute_result"
    }
   ],
   "source": [
    "# Code here\n",
    "np.random.seed(100)\n",
    "df = pd.DataFrame({'A': np.random.uniform(0,1,20),\n",
    "                   'B': [chr(i) for i in range(65, 85)],\n",
    "                   'C': range(20,40)})\n",
    "df"
   ]
  },
  {
   "cell_type": "code",
   "execution_count": null,
   "metadata": {},
   "outputs": [
    {
     "data": {
      "text/html": [
       "<div>\n",
       "<style scoped>\n",
       "    .dataframe tbody tr th:only-of-type {\n",
       "        vertical-align: middle;\n",
       "    }\n",
       "\n",
       "    .dataframe tbody tr th {\n",
       "        vertical-align: top;\n",
       "    }\n",
       "\n",
       "    .dataframe thead th {\n",
       "        text-align: right;\n",
       "    }\n",
       "</style>\n",
       "<table border=\"1\" class=\"dataframe\">\n",
       "  <thead>\n",
       "    <tr style=\"text-align: right;\">\n",
       "      <th></th>\n",
       "      <th>A</th>\n",
       "      <th>B</th>\n",
       "      <th>C</th>\n",
       "    </tr>\n",
       "  </thead>\n",
       "  <tbody>\n",
       "    <tr>\n",
       "      <th>0</th>\n",
       "      <td>0.543405</td>\n",
       "      <td>A</td>\n",
       "      <td>20</td>\n",
       "    </tr>\n",
       "    <tr>\n",
       "      <th>1</th>\n",
       "      <td>0.278369</td>\n",
       "      <td>B</td>\n",
       "      <td>21</td>\n",
       "    </tr>\n",
       "    <tr>\n",
       "      <th>2</th>\n",
       "      <td>0.424518</td>\n",
       "      <td>C</td>\n",
       "      <td>22</td>\n",
       "    </tr>\n",
       "    <tr>\n",
       "      <th>3</th>\n",
       "      <td>0.844776</td>\n",
       "      <td>D</td>\n",
       "      <td>23</td>\n",
       "    </tr>\n",
       "    <tr>\n",
       "      <th>4</th>\n",
       "      <td>0.004719</td>\n",
       "      <td>E</td>\n",
       "      <td>24</td>\n",
       "    </tr>\n",
       "    <tr>\n",
       "      <th>5</th>\n",
       "      <td>0.121569</td>\n",
       "      <td>F</td>\n",
       "      <td>25</td>\n",
       "    </tr>\n",
       "    <tr>\n",
       "      <th>6</th>\n",
       "      <td>0.670749</td>\n",
       "      <td>G</td>\n",
       "      <td>26</td>\n",
       "    </tr>\n",
       "    <tr>\n",
       "      <th>7</th>\n",
       "      <td>0.825853</td>\n",
       "      <td>H</td>\n",
       "      <td>27</td>\n",
       "    </tr>\n",
       "    <tr>\n",
       "      <th>8</th>\n",
       "      <td>0.136707</td>\n",
       "      <td>I</td>\n",
       "      <td>28</td>\n",
       "    </tr>\n",
       "    <tr>\n",
       "      <th>9</th>\n",
       "      <td>0.575093</td>\n",
       "      <td>J</td>\n",
       "      <td>29</td>\n",
       "    </tr>\n",
       "    <tr>\n",
       "      <th>10</th>\n",
       "      <td>0.891322</td>\n",
       "      <td>K</td>\n",
       "      <td>30</td>\n",
       "    </tr>\n",
       "    <tr>\n",
       "      <th>11</th>\n",
       "      <td>0.209202</td>\n",
       "      <td>L</td>\n",
       "      <td>31</td>\n",
       "    </tr>\n",
       "    <tr>\n",
       "      <th>12</th>\n",
       "      <td>0.185328</td>\n",
       "      <td>M</td>\n",
       "      <td>32</td>\n",
       "    </tr>\n",
       "    <tr>\n",
       "      <th>13</th>\n",
       "      <td>0.108377</td>\n",
       "      <td>N</td>\n",
       "      <td>33</td>\n",
       "    </tr>\n",
       "    <tr>\n",
       "      <th>14</th>\n",
       "      <td>0.219697</td>\n",
       "      <td>O</td>\n",
       "      <td>34</td>\n",
       "    </tr>\n",
       "    <tr>\n",
       "      <th>15</th>\n",
       "      <td>0.978624</td>\n",
       "      <td>P</td>\n",
       "      <td>35</td>\n",
       "    </tr>\n",
       "    <tr>\n",
       "      <th>16</th>\n",
       "      <td>0.811683</td>\n",
       "      <td>Q</td>\n",
       "      <td>36</td>\n",
       "    </tr>\n",
       "    <tr>\n",
       "      <th>17</th>\n",
       "      <td>0.171941</td>\n",
       "      <td>R</td>\n",
       "      <td>37</td>\n",
       "    </tr>\n",
       "    <tr>\n",
       "      <th>18</th>\n",
       "      <td>0.816225</td>\n",
       "      <td>S</td>\n",
       "      <td>38</td>\n",
       "    </tr>\n",
       "    <tr>\n",
       "      <th>19</th>\n",
       "      <td>0.274074</td>\n",
       "      <td>T</td>\n",
       "      <td>39</td>\n",
       "    </tr>\n",
       "  </tbody>\n",
       "</table>\n",
       "</div>"
      ],
      "text/plain": [
       "           A  B   C\n",
       "0   0.543405  A  20\n",
       "1   0.278369  B  21\n",
       "2   0.424518  C  22\n",
       "3   0.844776  D  23\n",
       "4   0.004719  E  24\n",
       "5   0.121569  F  25\n",
       "6   0.670749  G  26\n",
       "7   0.825853  H  27\n",
       "8   0.136707  I  28\n",
       "9   0.575093  J  29\n",
       "10  0.891322  K  30\n",
       "11  0.209202  L  31\n",
       "12  0.185328  M  32\n",
       "13  0.108377  N  33\n",
       "14  0.219697  O  34\n",
       "15  0.978624  P  35\n",
       "16  0.811683  Q  36\n",
       "17  0.171941  R  37\n",
       "18  0.816225  S  38\n",
       "19  0.274074  T  39"
      ]
     },
     "execution_count": 2,
     "metadata": {},
     "output_type": "execute_result"
    }
   ],
   "source": [
    "# Do Not write here\n",
    "df"
   ]
  },
  {
   "cell_type": "markdown",
   "metadata": {},
   "source": [
    "##### 11. Create a new column in df and name is as \"default\". If A>0.5 then default =1 otherwise 0. (2 points)"
   ]
  },
  {
   "cell_type": "code",
   "execution_count": 46,
   "metadata": {},
   "outputs": [],
   "source": [
    "# Code here\n",
    "df[\"default\"] = np.where(df[\"A\"] > 0.5, 1, 0)"
   ]
  },
  {
   "cell_type": "code",
   "execution_count": 47,
   "metadata": {},
   "outputs": [
    {
     "data": {
      "text/html": [
       "<div>\n",
       "<style scoped>\n",
       "    .dataframe tbody tr th:only-of-type {\n",
       "        vertical-align: middle;\n",
       "    }\n",
       "\n",
       "    .dataframe tbody tr th {\n",
       "        vertical-align: top;\n",
       "    }\n",
       "\n",
       "    .dataframe thead th {\n",
       "        text-align: right;\n",
       "    }\n",
       "</style>\n",
       "<table border=\"1\" class=\"dataframe\">\n",
       "  <thead>\n",
       "    <tr style=\"text-align: right;\">\n",
       "      <th></th>\n",
       "      <th>A</th>\n",
       "      <th>B</th>\n",
       "      <th>C</th>\n",
       "      <th>default</th>\n",
       "    </tr>\n",
       "  </thead>\n",
       "  <tbody>\n",
       "    <tr>\n",
       "      <th>0</th>\n",
       "      <td>0.543405</td>\n",
       "      <td>A</td>\n",
       "      <td>20</td>\n",
       "      <td>1</td>\n",
       "    </tr>\n",
       "    <tr>\n",
       "      <th>1</th>\n",
       "      <td>0.278369</td>\n",
       "      <td>B</td>\n",
       "      <td>21</td>\n",
       "      <td>0</td>\n",
       "    </tr>\n",
       "    <tr>\n",
       "      <th>2</th>\n",
       "      <td>0.424518</td>\n",
       "      <td>C</td>\n",
       "      <td>22</td>\n",
       "      <td>0</td>\n",
       "    </tr>\n",
       "    <tr>\n",
       "      <th>3</th>\n",
       "      <td>0.844776</td>\n",
       "      <td>D</td>\n",
       "      <td>23</td>\n",
       "      <td>1</td>\n",
       "    </tr>\n",
       "    <tr>\n",
       "      <th>4</th>\n",
       "      <td>0.004719</td>\n",
       "      <td>E</td>\n",
       "      <td>24</td>\n",
       "      <td>0</td>\n",
       "    </tr>\n",
       "    <tr>\n",
       "      <th>5</th>\n",
       "      <td>0.121569</td>\n",
       "      <td>F</td>\n",
       "      <td>25</td>\n",
       "      <td>0</td>\n",
       "    </tr>\n",
       "    <tr>\n",
       "      <th>6</th>\n",
       "      <td>0.670749</td>\n",
       "      <td>G</td>\n",
       "      <td>26</td>\n",
       "      <td>1</td>\n",
       "    </tr>\n",
       "    <tr>\n",
       "      <th>7</th>\n",
       "      <td>0.825853</td>\n",
       "      <td>H</td>\n",
       "      <td>27</td>\n",
       "      <td>1</td>\n",
       "    </tr>\n",
       "    <tr>\n",
       "      <th>8</th>\n",
       "      <td>0.136707</td>\n",
       "      <td>I</td>\n",
       "      <td>28</td>\n",
       "      <td>0</td>\n",
       "    </tr>\n",
       "    <tr>\n",
       "      <th>9</th>\n",
       "      <td>0.575093</td>\n",
       "      <td>J</td>\n",
       "      <td>29</td>\n",
       "      <td>1</td>\n",
       "    </tr>\n",
       "    <tr>\n",
       "      <th>10</th>\n",
       "      <td>0.891322</td>\n",
       "      <td>K</td>\n",
       "      <td>30</td>\n",
       "      <td>1</td>\n",
       "    </tr>\n",
       "    <tr>\n",
       "      <th>11</th>\n",
       "      <td>0.209202</td>\n",
       "      <td>L</td>\n",
       "      <td>31</td>\n",
       "      <td>0</td>\n",
       "    </tr>\n",
       "    <tr>\n",
       "      <th>12</th>\n",
       "      <td>0.185328</td>\n",
       "      <td>M</td>\n",
       "      <td>32</td>\n",
       "      <td>0</td>\n",
       "    </tr>\n",
       "    <tr>\n",
       "      <th>13</th>\n",
       "      <td>0.108377</td>\n",
       "      <td>N</td>\n",
       "      <td>33</td>\n",
       "      <td>0</td>\n",
       "    </tr>\n",
       "    <tr>\n",
       "      <th>14</th>\n",
       "      <td>0.219697</td>\n",
       "      <td>O</td>\n",
       "      <td>34</td>\n",
       "      <td>0</td>\n",
       "    </tr>\n",
       "    <tr>\n",
       "      <th>15</th>\n",
       "      <td>0.978624</td>\n",
       "      <td>P</td>\n",
       "      <td>35</td>\n",
       "      <td>1</td>\n",
       "    </tr>\n",
       "    <tr>\n",
       "      <th>16</th>\n",
       "      <td>0.811683</td>\n",
       "      <td>Q</td>\n",
       "      <td>36</td>\n",
       "      <td>1</td>\n",
       "    </tr>\n",
       "    <tr>\n",
       "      <th>17</th>\n",
       "      <td>0.171941</td>\n",
       "      <td>R</td>\n",
       "      <td>37</td>\n",
       "      <td>0</td>\n",
       "    </tr>\n",
       "    <tr>\n",
       "      <th>18</th>\n",
       "      <td>0.816225</td>\n",
       "      <td>S</td>\n",
       "      <td>38</td>\n",
       "      <td>1</td>\n",
       "    </tr>\n",
       "    <tr>\n",
       "      <th>19</th>\n",
       "      <td>0.274074</td>\n",
       "      <td>T</td>\n",
       "      <td>39</td>\n",
       "      <td>0</td>\n",
       "    </tr>\n",
       "  </tbody>\n",
       "</table>\n",
       "</div>"
      ],
      "text/plain": [
       "           A  B   C  default\n",
       "0   0.543405  A  20        1\n",
       "1   0.278369  B  21        0\n",
       "2   0.424518  C  22        0\n",
       "3   0.844776  D  23        1\n",
       "4   0.004719  E  24        0\n",
       "5   0.121569  F  25        0\n",
       "6   0.670749  G  26        1\n",
       "7   0.825853  H  27        1\n",
       "8   0.136707  I  28        0\n",
       "9   0.575093  J  29        1\n",
       "10  0.891322  K  30        1\n",
       "11  0.209202  L  31        0\n",
       "12  0.185328  M  32        0\n",
       "13  0.108377  N  33        0\n",
       "14  0.219697  O  34        0\n",
       "15  0.978624  P  35        1\n",
       "16  0.811683  Q  36        1\n",
       "17  0.171941  R  37        0\n",
       "18  0.816225  S  38        1\n",
       "19  0.274074  T  39        0"
      ]
     },
     "execution_count": 47,
     "metadata": {},
     "output_type": "execute_result"
    }
   ],
   "source": [
    "# Do Not write here\n",
    "df"
   ]
  },
  {
   "cell_type": "markdown",
   "metadata": {},
   "source": [
    "# Good luck!"
   ]
  }
 ],
 "metadata": {
  "anaconda-cloud": {},
  "kernelspec": {
   "display_name": "Python 3",
   "language": "python",
   "name": "python3"
  },
  "language_info": {
   "codemirror_mode": {
    "name": "ipython",
    "version": 3
   },
   "file_extension": ".py",
   "mimetype": "text/x-python",
   "name": "python",
   "nbconvert_exporter": "python",
   "pygments_lexer": "ipython3",
   "version": "3.8.8"
  },
  "vscode": {
   "interpreter": {
    "hash": "48bb8ccca6e6802098c80f2b059636e3d4fe73d8c5f2083887f2f1f145f0c1e6"
   }
  }
 },
 "nbformat": 4,
 "nbformat_minor": 4
}
