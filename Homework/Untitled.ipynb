{
 "cells": [
  {
   "cell_type": "code",
   "execution_count": null,
   "id": "0f0ece70",
   "metadata": {},
   "outputs": [],
   "source": []
  }
 ],
 "metadata": {
  "kernelspec": {
   "display_name": "caret-env",
   "language": "python",
   "name": "caret"
  }
 },
 "nbformat": 4,
 "nbformat_minor": 5
}
