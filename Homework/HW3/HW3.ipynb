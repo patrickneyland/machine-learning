{
 "cells": [
  {
   "cell_type": "code",
   "execution_count": 2,
   "id": "6b1b2271",
   "metadata": {},
   "outputs": [],
   "source": [
    "import pandas as pd\n",
    "import numpy as np\n",
    "import matplotlib.pyplot as plt\n",
    "import seaborn as sns\n",
    "import statsmodels.formula.api as smf\n",
    "\n",
    "sns.set()\n",
    "\n",
    "import warnings\n",
    "warnings.filterwarnings('ignore')"
   ]
  },
  {
   "cell_type": "code",
   "execution_count": 3,
   "id": "37832c61",
   "metadata": {},
   "outputs": [
    {
     "data": {
      "text/html": [
       "<div>\n",
       "<style scoped>\n",
       "    .dataframe tbody tr th:only-of-type {\n",
       "        vertical-align: middle;\n",
       "    }\n",
       "\n",
       "    .dataframe tbody tr th {\n",
       "        vertical-align: top;\n",
       "    }\n",
       "\n",
       "    .dataframe thead th {\n",
       "        text-align: right;\n",
       "    }\n",
       "</style>\n",
       "<table border=\"1\" class=\"dataframe\">\n",
       "  <thead>\n",
       "    <tr style=\"text-align: right;\">\n",
       "      <th></th>\n",
       "      <th>Sold Price</th>\n",
       "      <th>DOM</th>\n",
       "      <th>Garage Capacity</th>\n",
       "      <th>HOA Fee</th>\n",
       "      <th>Irregular Shape</th>\n",
       "      <th>Quadrant</th>\n",
       "      <th>School District</th>\n",
       "      <th>Sold Terms</th>\n",
       "      <th>Total Bedrooms</th>\n",
       "      <th>Total Bathrooms</th>\n",
       "      <th>Total Square Feet</th>\n",
       "      <th>Year Built</th>\n",
       "      <th>Zip</th>\n",
       "      <th>year_sold</th>\n",
       "      <th>month_sold</th>\n",
       "      <th>built_after_2000</th>\n",
       "    </tr>\n",
       "  </thead>\n",
       "  <tbody>\n",
       "    <tr>\n",
       "      <th>0</th>\n",
       "      <td>176000</td>\n",
       "      <td>5</td>\n",
       "      <td>2</td>\n",
       "      <td>0</td>\n",
       "      <td>No</td>\n",
       "      <td>NW</td>\n",
       "      <td>Cache</td>\n",
       "      <td>FHA</td>\n",
       "      <td>3</td>\n",
       "      <td>1</td>\n",
       "      <td>1031</td>\n",
       "      <td>1974</td>\n",
       "      <td>84335</td>\n",
       "      <td>2018</td>\n",
       "      <td>9</td>\n",
       "      <td>0</td>\n",
       "    </tr>\n",
       "    <tr>\n",
       "      <th>1</th>\n",
       "      <td>225000</td>\n",
       "      <td>6</td>\n",
       "      <td>2</td>\n",
       "      <td>0</td>\n",
       "      <td>No</td>\n",
       "      <td>NW</td>\n",
       "      <td>Cache</td>\n",
       "      <td>Conventional</td>\n",
       "      <td>4</td>\n",
       "      <td>2</td>\n",
       "      <td>2091</td>\n",
       "      <td>1995</td>\n",
       "      <td>84335</td>\n",
       "      <td>2018</td>\n",
       "      <td>7</td>\n",
       "      <td>0</td>\n",
       "    </tr>\n",
       "    <tr>\n",
       "      <th>2</th>\n",
       "      <td>274900</td>\n",
       "      <td>14</td>\n",
       "      <td>2</td>\n",
       "      <td>0</td>\n",
       "      <td>No</td>\n",
       "      <td>NW</td>\n",
       "      <td>Cache</td>\n",
       "      <td>Conventional</td>\n",
       "      <td>3</td>\n",
       "      <td>1</td>\n",
       "      <td>2016</td>\n",
       "      <td>1980</td>\n",
       "      <td>84335</td>\n",
       "      <td>2018</td>\n",
       "      <td>11</td>\n",
       "      <td>0</td>\n",
       "    </tr>\n",
       "    <tr>\n",
       "      <th>3</th>\n",
       "      <td>175000</td>\n",
       "      <td>16</td>\n",
       "      <td>1</td>\n",
       "      <td>0</td>\n",
       "      <td>No</td>\n",
       "      <td>NW</td>\n",
       "      <td>Cache</td>\n",
       "      <td>USDA Rural Development</td>\n",
       "      <td>4</td>\n",
       "      <td>1</td>\n",
       "      <td>1920</td>\n",
       "      <td>1978</td>\n",
       "      <td>84335</td>\n",
       "      <td>2018</td>\n",
       "      <td>6</td>\n",
       "      <td>0</td>\n",
       "    </tr>\n",
       "    <tr>\n",
       "      <th>4</th>\n",
       "      <td>179000</td>\n",
       "      <td>29</td>\n",
       "      <td>0</td>\n",
       "      <td>0</td>\n",
       "      <td>No</td>\n",
       "      <td>NW</td>\n",
       "      <td>Cache</td>\n",
       "      <td>Cash</td>\n",
       "      <td>4</td>\n",
       "      <td>2</td>\n",
       "      <td>1329</td>\n",
       "      <td>1976</td>\n",
       "      <td>84335</td>\n",
       "      <td>2018</td>\n",
       "      <td>9</td>\n",
       "      <td>0</td>\n",
       "    </tr>\n",
       "  </tbody>\n",
       "</table>\n",
       "</div>"
      ],
      "text/plain": [
       "   Sold Price  DOM  Garage Capacity  HOA Fee Irregular Shape Quadrant  \\\n",
       "0      176000    5                2        0              No       NW   \n",
       "1      225000    6                2        0              No       NW   \n",
       "2      274900   14                2        0              No       NW   \n",
       "3      175000   16                1        0              No       NW   \n",
       "4      179000   29                0        0              No       NW   \n",
       "\n",
       "  School District              Sold Terms  Total Bedrooms  Total Bathrooms  \\\n",
       "0           Cache                     FHA               3                1   \n",
       "1           Cache            Conventional               4                2   \n",
       "2           Cache            Conventional               3                1   \n",
       "3           Cache  USDA Rural Development               4                1   \n",
       "4           Cache                    Cash               4                2   \n",
       "\n",
       "   Total Square Feet  Year Built    Zip  year_sold  month_sold  \\\n",
       "0               1031        1974  84335       2018           9   \n",
       "1               2091        1995  84335       2018           7   \n",
       "2               2016        1980  84335       2018          11   \n",
       "3               1920        1978  84335       2018           6   \n",
       "4               1329        1976  84335       2018           9   \n",
       "\n",
       "   built_after_2000  \n",
       "0                 0  \n",
       "1                 0  \n",
       "2                 0  \n",
       "3                 0  \n",
       "4                 0  "
      ]
     },
     "execution_count": 3,
     "metadata": {},
     "output_type": "execute_result"
    }
   ],
   "source": [
    "df = pd.read_csv(\"https://raw.githubusercontent.com/PJalgotrader/Machine_Learning-USU/main/data/Logan_housing.csv\")\n",
    "df.head()"
   ]
  },
  {
   "cell_type": "code",
   "execution_count": 4,
   "id": "fa5d5945",
   "metadata": {},
   "outputs": [],
   "source": [
    "df = df.drop([\"Garage Capacity\", \"Irregular Shape\", \"Sold Terms\", \"Zip\", \"month_sold\", \"Year Built\", \"year_sold\"], axis=1)"
   ]
  },
  {
   "cell_type": "code",
   "execution_count": 5,
   "id": "6959f860",
   "metadata": {},
   "outputs": [
    {
     "data": {
      "text/html": [
       "<div>\n",
       "<style scoped>\n",
       "    .dataframe tbody tr th:only-of-type {\n",
       "        vertical-align: middle;\n",
       "    }\n",
       "\n",
       "    .dataframe tbody tr th {\n",
       "        vertical-align: top;\n",
       "    }\n",
       "\n",
       "    .dataframe thead th {\n",
       "        text-align: right;\n",
       "    }\n",
       "</style>\n",
       "<table border=\"1\" class=\"dataframe\">\n",
       "  <thead>\n",
       "    <tr style=\"text-align: right;\">\n",
       "      <th></th>\n",
       "      <th>Sold Price</th>\n",
       "      <th>DOM</th>\n",
       "      <th>HOA Fee</th>\n",
       "      <th>Quadrant</th>\n",
       "      <th>School District</th>\n",
       "      <th>Total Bedrooms</th>\n",
       "      <th>Total Bathrooms</th>\n",
       "      <th>Total Square Feet</th>\n",
       "      <th>built_after_2000</th>\n",
       "    </tr>\n",
       "  </thead>\n",
       "  <tbody>\n",
       "    <tr>\n",
       "      <th>0</th>\n",
       "      <td>176000</td>\n",
       "      <td>5</td>\n",
       "      <td>0</td>\n",
       "      <td>NW</td>\n",
       "      <td>Cache</td>\n",
       "      <td>3</td>\n",
       "      <td>1</td>\n",
       "      <td>1031</td>\n",
       "      <td>0</td>\n",
       "    </tr>\n",
       "    <tr>\n",
       "      <th>1</th>\n",
       "      <td>225000</td>\n",
       "      <td>6</td>\n",
       "      <td>0</td>\n",
       "      <td>NW</td>\n",
       "      <td>Cache</td>\n",
       "      <td>4</td>\n",
       "      <td>2</td>\n",
       "      <td>2091</td>\n",
       "      <td>0</td>\n",
       "    </tr>\n",
       "    <tr>\n",
       "      <th>2</th>\n",
       "      <td>274900</td>\n",
       "      <td>14</td>\n",
       "      <td>0</td>\n",
       "      <td>NW</td>\n",
       "      <td>Cache</td>\n",
       "      <td>3</td>\n",
       "      <td>1</td>\n",
       "      <td>2016</td>\n",
       "      <td>0</td>\n",
       "    </tr>\n",
       "    <tr>\n",
       "      <th>3</th>\n",
       "      <td>175000</td>\n",
       "      <td>16</td>\n",
       "      <td>0</td>\n",
       "      <td>NW</td>\n",
       "      <td>Cache</td>\n",
       "      <td>4</td>\n",
       "      <td>1</td>\n",
       "      <td>1920</td>\n",
       "      <td>0</td>\n",
       "    </tr>\n",
       "    <tr>\n",
       "      <th>4</th>\n",
       "      <td>179000</td>\n",
       "      <td>29</td>\n",
       "      <td>0</td>\n",
       "      <td>NW</td>\n",
       "      <td>Cache</td>\n",
       "      <td>4</td>\n",
       "      <td>2</td>\n",
       "      <td>1329</td>\n",
       "      <td>0</td>\n",
       "    </tr>\n",
       "  </tbody>\n",
       "</table>\n",
       "</div>"
      ],
      "text/plain": [
       "   Sold Price  DOM  HOA Fee Quadrant School District  Total Bedrooms  \\\n",
       "0      176000    5        0       NW           Cache               3   \n",
       "1      225000    6        0       NW           Cache               4   \n",
       "2      274900   14        0       NW           Cache               3   \n",
       "3      175000   16        0       NW           Cache               4   \n",
       "4      179000   29        0       NW           Cache               4   \n",
       "\n",
       "   Total Bathrooms  Total Square Feet  built_after_2000  \n",
       "0                1               1031                 0  \n",
       "1                2               2091                 0  \n",
       "2                1               2016                 0  \n",
       "3                1               1920                 0  \n",
       "4                2               1329                 0  "
      ]
     },
     "execution_count": 5,
     "metadata": {},
     "output_type": "execute_result"
    }
   ],
   "source": [
    "df.head()"
   ]
  },
  {
   "cell_type": "code",
   "execution_count": 6,
   "id": "0ab3ac9f",
   "metadata": {},
   "outputs": [
    {
     "data": {
      "text/plain": [
       "Sold Price           0\n",
       "DOM                  0\n",
       "HOA Fee              0\n",
       "Quadrant             0\n",
       "School District      0\n",
       "Total Bedrooms       0\n",
       "Total Bathrooms      0\n",
       "Total Square Feet    0\n",
       "built_after_2000     0\n",
       "dtype: int64"
      ]
     },
     "execution_count": 6,
     "metadata": {},
     "output_type": "execute_result"
    }
   ],
   "source": [
    "#df.isna().sum()\n",
    "#No missing observations\n",
    "df.replace('', np.nan, inplace=True)\n",
    "df.isna().sum()"
   ]
  },
  {
   "cell_type": "code",
   "execution_count": 8,
   "id": "2aab8ec7",
   "metadata": {},
   "outputs": [
    {
     "name": "stdout",
     "output_type": "stream",
     "text": [
      "<class 'pandas.core.frame.DataFrame'>\n",
      "RangeIndex: 4110 entries, 0 to 4109\n",
      "Data columns (total 9 columns):\n",
      " #   Column             Non-Null Count  Dtype \n",
      "---  ------             --------------  ----- \n",
      " 0   Sold Price         4110 non-null   int64 \n",
      " 1   DOM                4110 non-null   int64 \n",
      " 2   HOA Fee            4110 non-null   int64 \n",
      " 3   Quadrant           4110 non-null   object\n",
      " 4   School District    4110 non-null   object\n",
      " 5   Total Bedrooms     4110 non-null   int64 \n",
      " 6   Total Bathrooms    4110 non-null   int64 \n",
      " 7   Total Square Feet  4110 non-null   int64 \n",
      " 8   built_after_2000   4110 non-null   int64 \n",
      "dtypes: int64(7), object(2)\n",
      "memory usage: 289.1+ KB\n"
     ]
    }
   ],
   "source": [
    "df.info()"
   ]
  },
  {
   "cell_type": "code",
   "execution_count": 9,
   "id": "1ed2f708",
   "metadata": {},
   "outputs": [
    {
     "data": {
      "text/plain": [
       "Sold Price           1217\n",
       "DOM                   248\n",
       "HOA Fee                96\n",
       "Quadrant                4\n",
       "School District         2\n",
       "Total Bedrooms          9\n",
       "Total Bathrooms         7\n",
       "Total Square Feet    2009\n",
       "built_after_2000        2\n",
       "dtype: int64"
      ]
     },
     "execution_count": 9,
     "metadata": {},
     "output_type": "execute_result"
    }
   ],
   "source": [
    "df.nunique()"
   ]
  },
  {
   "cell_type": "code",
   "execution_count": 10,
   "id": "45095b76",
   "metadata": {},
   "outputs": [],
   "source": [
    "#converting all categorical variables to the 'category' data type\n",
    "categorical = [\"Quadrant\",\"School District\", \"built_after_2000\"]\n",
    "df[categorical] = df[categorical].apply(lambda x: x.astype(\"category\"))"
   ]
  },
  {
   "cell_type": "code",
   "execution_count": 11,
   "id": "bba9f602",
   "metadata": {},
   "outputs": [
    {
     "name": "stdout",
     "output_type": "stream",
     "text": [
      "<class 'pandas.core.frame.DataFrame'>\n",
      "RangeIndex: 4110 entries, 0 to 4109\n",
      "Data columns (total 9 columns):\n",
      " #   Column             Non-Null Count  Dtype   \n",
      "---  ------             --------------  -----   \n",
      " 0   Sold Price         4110 non-null   int64   \n",
      " 1   DOM                4110 non-null   int64   \n",
      " 2   HOA Fee            4110 non-null   int64   \n",
      " 3   Quadrant           4110 non-null   category\n",
      " 4   School District    4110 non-null   category\n",
      " 5   Total Bedrooms     4110 non-null   int64   \n",
      " 6   Total Bathrooms    4110 non-null   int64   \n",
      " 7   Total Square Feet  4110 non-null   int64   \n",
      " 8   built_after_2000   4110 non-null   category\n",
      "dtypes: category(3), int64(6)\n",
      "memory usage: 205.3 KB\n"
     ]
    }
   ],
   "source": [
    "df.info()"
   ]
  },
  {
   "cell_type": "code",
   "execution_count": 12,
   "id": "99063f42",
   "metadata": {},
   "outputs": [
    {
     "data": {
      "text/plain": [
       "count    4110.000000\n",
       "mean       40.550608\n",
       "std        51.571991\n",
       "min         1.000000\n",
       "25%         6.000000\n",
       "50%        23.000000\n",
       "75%        56.000000\n",
       "max       712.000000\n",
       "Name: DOM, dtype: float64"
      ]
     },
     "execution_count": 12,
     "metadata": {},
     "output_type": "execute_result"
    }
   ],
   "source": [
    "df[\"DOM\"].describe()"
   ]
  },
  {
   "cell_type": "markdown",
   "id": "395272e2",
   "metadata": {},
   "source": [
    "The range is 711."
   ]
  },
  {
   "cell_type": "code",
   "execution_count": 15,
   "id": "561ff855",
   "metadata": {},
   "outputs": [
    {
     "data": {
      "image/png": "[encoded data removed]",
      "text/plain": [
       "<Figure size 432x288 with 1 Axes>"
      ]
     },
     "metadata": {},
     "output_type": "display_data"
    }
   ],
   "source": [
    "plt.figure(figsize=(6,4))\n",
    "sns.distplot(df['DOM'], kde=True, bins=50, rug=True)\n",
    "plt.show()"
   ]
  },
  {
   "cell_type": "markdown",
   "id": "8b31d858",
   "metadata": {},
   "source": [
    "The data for this variable looks like it is skewed to the right and it is not normally distributed. "
   ]
  },
  {
   "cell_type": "code",
   "execution_count": 16,
   "id": "57027f00",
   "metadata": {
    "scrolled": true
   },
   "outputs": [
    {
     "data": {
      "image/png": "[encoded data removed]",
      "text/plain": [
       "<Figure size 432x288 with 1 Axes>"
      ]
     },
     "metadata": {},
     "output_type": "display_data"
    }
   ],
   "source": [
    "df['log_DOM'] = np.log(df['DOM'])\n",
    "plt.figure(figsize=(6,4))\n",
    "sns.distplot(df['log_DOM'], kde=True, bins=50, rug=True)\n",
    "plt.show()"
   ]
  },
  {
   "cell_type": "code",
   "execution_count": 17,
   "id": "2fae10fc",
   "metadata": {},
   "outputs": [],
   "source": [
    "#Replacing all spaces in variable names with underscores\n",
    "df.columns = [col.replace(' ', '_') for col in df.columns]"
   ]
  },
  {
   "cell_type": "code",
   "execution_count": 19,
   "id": "1819a2c2",
   "metadata": {},
   "outputs": [
    {
     "name": "stdout",
     "output_type": "stream",
     "text": [
      "<class 'pandas.core.frame.DataFrame'>\n",
      "RangeIndex: 4110 entries, 0 to 4109\n",
      "Data columns (total 10 columns):\n",
      " #   Column             Non-Null Count  Dtype   \n",
      "---  ------             --------------  -----   \n",
      " 0   Sold_Price         4110 non-null   int64   \n",
      " 1   DOM                4110 non-null   int64   \n",
      " 2   HOA_Fee            4110 non-null   int64   \n",
      " 3   Quadrant           4110 non-null   category\n",
      " 4   School_District    4110 non-null   category\n",
      " 5   Total_Bedrooms     4110 non-null   int64   \n",
      " 6   Total_Bathrooms    4110 non-null   int64   \n",
      " 7   Total_Square_Feet  4110 non-null   int64   \n",
      " 8   built_after_2000   4110 non-null   category\n",
      " 9   log_DOM            4110 non-null   float64 \n",
      "dtypes: category(3), float64(1), int64(6)\n",
      "memory usage: 237.4 KB\n"
     ]
    }
   ],
   "source": [
    "df.info()"
   ]
  },
  {
   "cell_type": "code",
   "execution_count": 23,
   "id": "d147bbd6",
   "metadata": {},
   "outputs": [],
   "source": [
    "model1 = smf.ols(formula='DOM ~ Sold_Price + HOA_Fee + Quadrant + School_District + Total_Bedrooms + Total_Bathrooms + Total_Square_Feet + built_after_2000', data=df)\n",
    "reg1 = model1.fit()"
   ]
  },
  {
   "cell_type": "code",
   "execution_count": 24,
   "id": "2336e9b4",
   "metadata": {},
   "outputs": [],
   "source": [
    "model2 = smf.ols(formula='log_DOM ~ Sold_Price + HOA_Fee + Quadrant + School_District + Total_Bedrooms + Total_Bathrooms + Total_Square_Feet + built_after_2000', data=df)\n",
    "reg2 = model2.fit()"
   ]
  },
  {
   "cell_type": "code",
   "execution_count": 25,
   "id": "ed4aece3",
   "metadata": {},
   "outputs": [
    {
     "name": "stdout",
     "output_type": "stream",
     "text": [
      "                            OLS Regression Results                            \n",
      "==============================================================================\n",
      "Dep. Variable:                    DOM   R-squared:                       0.104\n",
      "Model:                            OLS   Adj. R-squared:                  0.102\n",
      "Method:                 Least Squares   F-statistic:                     47.45\n",
      "Date:                Sat, 04 Feb 2023   Prob (F-statistic):           2.73e-90\n",
      "Time:                        16:18:18   Log-Likelihood:                -21812.\n",
      "No. Observations:                4110   AIC:                         4.365e+04\n",
      "Df Residuals:                    4099   BIC:                         4.372e+04\n",
      "Df Model:                          10                                         \n",
      "Covariance Type:            nonrobust                                         \n",
      "============================================================================================\n",
      "                               coef    std err          t      P>|t|      [0.025      0.975]\n",
      "--------------------------------------------------------------------------------------------\n",
      "Intercept                   17.4482      3.664      4.762      0.000      10.264      24.632\n",
      "Quadrant[T.NW]              -1.3290      2.334     -0.569      0.569      -5.905       3.247\n",
      "Quadrant[T.SE]              -4.0166      2.148     -1.870      0.062      -8.228       0.195\n",
      "Quadrant[T.SW]              -4.2135      2.151     -1.959      0.050      -8.430       0.003\n",
      "School_District[T.Logan]    -6.4084      1.834     -3.494      0.000     -10.004      -2.813\n",
      "built_after_2000[T.1]        4.9188      1.824      2.696      0.007       1.342       8.496\n",
      "Sold_Price               -1.894e-05   1.23e-05     -1.540      0.124   -4.31e-05    5.18e-06\n",
      "HOA_Fee                      0.0586      0.012      4.780      0.000       0.035       0.083\n",
      "Total_Bedrooms              -4.6591      0.923     -5.048      0.000      -6.468      -2.850\n",
      "Total_Bathrooms              1.2421      1.285      0.967      0.334      -1.277       3.761\n",
      "Total_Square_Feet            0.0181      0.002     11.644      0.000       0.015       0.021\n",
      "==============================================================================\n",
      "Omnibus:                     2550.291   Durbin-Watson:                   0.386\n",
      "Prob(Omnibus):                  0.000   Jarque-Bera (JB):            41181.563\n",
      "Skew:                           2.684   Prob(JB):                         0.00\n",
      "Kurtosis:                      17.549   Cond. No.                     1.66e+06\n",
      "==============================================================================\n",
      "\n",
      "Notes:\n",
      "[1] Standard Errors assume that the covariance matrix of the errors is correctly specified.\n",
      "[2] The condition number is large, 1.66e+06. This might indicate that there are\n",
      "strong multicollinearity or other numerical problems.\n"
     ]
    }
   ],
   "source": [
    "print(reg1.summary())"
   ]
  },
  {
   "cell_type": "code",
   "execution_count": 26,
   "id": "f1e90271",
   "metadata": {},
   "outputs": [
    {
     "name": "stdout",
     "output_type": "stream",
     "text": [
      "                            OLS Regression Results                            \n",
      "==============================================================================\n",
      "Dep. Variable:                log_DOM   R-squared:                       0.095\n",
      "Model:                            OLS   Adj. R-squared:                  0.093\n",
      "Method:                 Least Squares   F-statistic:                     43.11\n",
      "Date:                Sat, 04 Feb 2023   Prob (F-statistic):           6.17e-82\n",
      "Time:                        16:28:06   Log-Likelihood:                -6944.5\n",
      "No. Observations:                4110   AIC:                         1.391e+04\n",
      "Df Residuals:                    4099   BIC:                         1.398e+04\n",
      "Df Model:                          10                                         \n",
      "Covariance Type:            nonrobust                                         \n",
      "============================================================================================\n",
      "                               coef    std err          t      P>|t|      [0.025      0.975]\n",
      "--------------------------------------------------------------------------------------------\n",
      "Intercept                    2.1937      0.098     22.294      0.000       2.001       2.387\n",
      "Quadrant[T.NW]              -0.0076      0.063     -0.121      0.904      -0.130       0.115\n",
      "Quadrant[T.SE]              -0.0176      0.058     -0.305      0.760      -0.131       0.095\n",
      "Quadrant[T.SW]              -0.0928      0.058     -1.606      0.108      -0.206       0.020\n",
      "School_District[T.Logan]    -0.1889      0.049     -3.836      0.000      -0.285      -0.092\n",
      "built_after_2000[T.1]        0.2310      0.049      4.715      0.000       0.135       0.327\n",
      "Sold_Price               -1.737e-06    3.3e-07     -5.259      0.000   -2.38e-06   -1.09e-06\n",
      "HOA_Fee                      0.0013      0.000      3.823      0.000       0.001       0.002\n",
      "Total_Bedrooms              -0.0388      0.025     -1.564      0.118      -0.087       0.010\n",
      "Total_Bathrooms              0.0563      0.035      1.630      0.103      -0.011       0.124\n",
      "Total_Square_Feet            0.0005   4.18e-05     11.610      0.000       0.000       0.001\n",
      "==============================================================================\n",
      "Omnibus:                      298.242   Durbin-Watson:                   0.206\n",
      "Prob(Omnibus):                  0.000   Jarque-Bera (JB):              131.352\n",
      "Skew:                          -0.233   Prob(JB):                     3.00e-29\n",
      "Kurtosis:                       2.259   Cond. No.                     1.66e+06\n",
      "==============================================================================\n",
      "\n",
      "Notes:\n",
      "[1] Standard Errors assume that the covariance matrix of the errors is correctly specified.\n",
      "[2] The condition number is large, 1.66e+06. This might indicate that there are\n",
      "strong multicollinearity or other numerical problems.\n"
     ]
    }
   ],
   "source": [
    "print(reg2.summary())"
   ]
  },
  {
   "cell_type": "markdown",
   "id": "e82160dd",
   "metadata": {},
   "source": [
    "According to the coefficients in reg1, the Southwest quadrant is selling the fastest."
   ]
  },
  {
   "cell_type": "markdown",
   "id": "b5a6afb9",
   "metadata": {},
   "source": [
    "Ceteris paribus, if the HOA fee increases by $100, the average DOM will increase by 5.86 days. This makes sense—having to pay a mondatory $100 dollars to live somewhere would probably dissuade potential homebuyers."
   ]
  },
  {
   "cell_type": "markdown",
   "id": "03f0caf4",
   "metadata": {},
   "source": [
    "If the total_bedrooms increases by 1, on average the DOM will decrease by 3.88 percent. This makes sense—people like more bedrooms."
   ]
  },
  {
   "cell_type": "code",
   "execution_count": 27,
   "id": "1ac515d6",
   "metadata": {},
   "outputs": [],
   "source": [
    "from statsmodels.tools import eval_measures"
   ]
  },
  {
   "cell_type": "code",
   "execution_count": 30,
   "id": "28c835b2",
   "metadata": {},
   "outputs": [],
   "source": [
    "predictions = reg1.predict()\n",
    "actuals = df.DOM"
   ]
  },
  {
   "cell_type": "code",
   "execution_count": 31,
   "id": "82caa192",
   "metadata": {},
   "outputs": [
    {
     "data": {
      "text/plain": [
       "33.56984614166415"
      ]
     },
     "execution_count": 31,
     "metadata": {},
     "output_type": "execute_result"
    }
   ],
   "source": [
    "#MAE\n",
    "eval_measures.meanabs(actuals, predictions)"
   ]
  },
  {
   "cell_type": "code",
   "execution_count": 32,
   "id": "80cbd2e7",
   "metadata": {},
   "outputs": [
    {
     "data": {
      "text/plain": [
       "2383.127964493403"
      ]
     },
     "execution_count": 32,
     "metadata": {},
     "output_type": "execute_result"
    }
   ],
   "source": [
    "#MSE\n",
    "eval_measures.mse(actuals, predictions)"
   ]
  },
  {
   "cell_type": "code",
   "execution_count": 33,
   "id": "76cdb598",
   "metadata": {},
   "outputs": [
    {
     "data": {
      "text/plain": [
       "48.817291654632"
      ]
     },
     "execution_count": 33,
     "metadata": {},
     "output_type": "execute_result"
    }
   ],
   "source": [
    "#RMSE\n",
    "eval_measures.rmse(actuals, predictions)"
   ]
  },
  {
   "cell_type": "code",
   "execution_count": 34,
   "id": "861691d3",
   "metadata": {},
   "outputs": [
    {
     "data": {
      "text/plain": [
       "83.16233955442335"
      ]
     },
     "execution_count": 34,
     "metadata": {},
     "output_type": "execute_result"
    }
   ],
   "source": [
    "#RMSPE\n",
    "eval_measures.rmspe(actuals, predictions)"
   ]
  },
  {
   "cell_type": "markdown",
   "id": "7017503b",
   "metadata": {},
   "source": [
    "The unit of MAE and RMSE is days.\n",
    "The interpretation of an 83.162 is that the average percentage deviation of the model's predictions of the actual data is 83.162 percent."
   ]
  }
 ],
 "metadata": {
  "kernelspec": {
   "display_name": "Python 3",
   "language": "python",
   "name": "python3"
  },
  "language_info": {
   "codemirror_mode": {
    "name": "ipython",
    "version": 3
   },
   "file_extension": ".py",
   "mimetype": "text/x-python",
   "name": "python",
   "nbconvert_exporter": "python",
   "pygments_lexer": "ipython3",
   "version": "3.8.8"
  }
 },
 "nbformat": 4,
 "nbformat_minor": 5
}
